{
 "cells": [
  {
   "cell_type": "markdown",
   "id": "63397434-71b3-45ef-9b9f-97ea349102e3",
   "metadata": {
    "jp-MarkdownHeadingCollapsed": true,
    "tags": []
   },
   "source": [
    "# **Our genome makes us human**"
   ]
  },
  {
   "cell_type": "markdown",
   "id": "e74e22d1-cdf7-4f84-89e2-49f33008e92a",
   "metadata": {},
   "source": [
    "## Our genomes consist of 24 different DNA molecules that encompass more than 3 billion letters with the perfect recipe for making a human.\n",
    "\n",
    "![genome](images/genome.png)\n",
    "\n",
    "## Such molecules are called chromosomes and each of us have 22 pairs of autosomal chromosomes, 1 pair of sexual chromosomes and one mitochondrial chromosome."
   ]
  },
  {
   "cell_type": "markdown",
   "id": "20f4ca22-c772-4f8b-bff6-5b22b563733a",
   "metadata": {
    "jp-MarkdownHeadingCollapsed": true,
    "tags": []
   },
   "source": [
    "# **Our variants make us unique**"
   ]
  },
  {
   "cell_type": "markdown",
   "id": "3c09db94-48ac-4543-ac3e-4a7dd66f9fa3",
   "metadata": {},
   "source": [
    "## You and I are different, we probably have different eye colour, muscle mass, blood type, lactose tolerance and thousands of small differences\n",
    "## Many of the phenotypic differences among humans have a genetic component, and such genetic component is best explained by the small variations that each of us have. Let's see an example:\n",
    "\n",
    "## In a given gene I may have the following sequence:\n",
    "CGAGGCTGAC**C**GAGAGCGAGG\n",
    "     \n",
    "## Whereas you may have this other sequence:\n",
    "CGAGGCTGAC**T**GAGAGCGAGG\n",
    "\n",
    "## ***Do you notice something different?***\n",
    "\n",
    "## That small difference of a Citosine residue for a Timine residue corresponds to the single nucleotide variation (sometimes referred to as polymorphism, or SNP for short) **[rs1815739](https://www.ensembl.org/homo_sapiens/Variation/Summary?v=rs1815739)** \n",
    "\n",
    "## Such variation changes the [gene enconding alpha-3 actinin](https://www.omim.org/entry/102574), where a C-to-T base substitution results in the transformation of an arginine residue (R) to a premature stop codon, meaning that people with the C allele have a functional, full-length actinin protein, and people with the T allele, have a non-functional, truncated version of alpha-3 actinin. \n",
    "\n",
    "## ***Why is this relevant?*** Well, the C allele is associated with enhanced improvements in strength, protection from eccentric training-induced muscle damage, and sports injury [[ref](https://doi.org/10.3389/fphys.2017.01080)]\n",
    "\n",
    "<img src=\"images/actn3.png\" width=\"600px\" />"
   ]
  },
  {
   "cell_type": "markdown",
   "id": "ed38a0bf",
   "metadata": {},
   "source": [
    "## ***How many of these small variations do we have?***\n",
    "\n",
    "## **Short answer:** tens of thousands, you and I can be very different if we look really carefully\n",
    "\n",
    "## **Type of Variants**\n",
    "### Genetic variation is commonly divided into three main forms:\n",
    "### - Single base-pair substitutions, also known as Single Nucleotic Variants (SNVs)\n",
    "### - Small insertions or deletions, also known as ‘indels’\n",
    "### - Structural variations\n",
    "### * A single nucleotide variant (SNV) is a variation of a single nucleotide in a population’s genome. Like SNVs, a single nucleotide polymorphism (SNP) is also a single base substitution, but it is limited to germline DNA and must be present in at least 1% of the population.\n",
    "\n",
    "### Variants can be categorised based on where they fall with respect to genes and other genomic features. Variant falling within a coding region are classified as **synonymous, missense or nonsense variants** based on how they affect the codon they falls within."
   ]
  },
  {
   "cell_type": "markdown",
   "id": "6fd69953-a62b-49a8-a844-cdf1d8258fce",
   "metadata": {
    "jp-MarkdownHeadingCollapsed": true,
    "tags": []
   },
   "source": [
    "# **How can we detect genomic variants?**"
   ]
  },
  {
   "cell_type": "markdown",
   "id": "a195ed70-221b-4e73-b92b-310fa78d5818",
   "metadata": {},
   "source": [
    "## Using massive sequencing (NGS) we can **sequence** important parts of the genome in a matter of days, detect genomic variants in a matter of hours, and assess the results in a matter of minutes, this last part is what we're going to do today, but first, a brief explanation on how things work."
   ]
  },
  {
   "cell_type": "markdown",
   "id": "0da2b721-b44d-447b-9024-4d2551f2b677",
   "metadata": {
    "jp-MarkdownHeadingCollapsed": true,
    "tags": []
   },
   "source": [
    "# **How do we sequence?**"
   ]
  },
  {
   "cell_type": "markdown",
   "id": "2f2acc2b-7218-4243-983d-e75b5e7005f4",
   "metadata": {
    "slideshow": {
     "slide_type": "notes"
    },
    "tags": []
   },
   "source": [
    "![sequencing_en](images/sequencing_en.png)"
   ]
  },
  {
   "cell_type": "markdown",
   "id": "99af63e2-5794-4afb-b572-92e24df7b362",
   "metadata": {
    "jp-MarkdownHeadingCollapsed": true,
    "tags": []
   },
   "source": [
    "# **How do we call variants?**"
   ]
  },
  {
   "cell_type": "markdown",
   "id": "76f3e7f3-cf19-4d71-8768-a160fd3cd25c",
   "metadata": {},
   "source": [
    "## Variant calling is the process by which we identify variants from sequence data. to call variants we normally perform the following steps: \n",
    "## 1. Carry out whole genome or whole exome sequencing, obtaining FASTQ files to perform QC of reads.\n",
    "## 2. Align the reads obtained to a reference genome, creating BAM or CRAM files.\n",
    "## 3. Identify where the aligned reads differ from the reference genome and write it into a VCF file.\n",
    "\n",
    "## *Genomic variants detected using any of the available sequencing platforms are conventionally represented in the **VCF** (Variant Calling File) format*"
   ]
  },
  {
   "cell_type": "markdown",
   "id": "9ab16fbd",
   "metadata": {},
   "source": [
    "![data_flow_en](images/data_flow_en.png)"
   ]
  },
  {
   "cell_type": "markdown",
   "id": "ae9bf6f0",
   "metadata": {
    "jp-MarkdownHeadingCollapsed": true,
    "tags": []
   },
   "source": [
    "##  We will start with vcf files obtained from [this study](https://f1000research.com/articles/10-207/v2)"
   ]
  },
  {
   "cell_type": "markdown",
   "id": "1cd3803b-9932-47f7-bcaa-80bffd296084",
   "metadata": {
    "jp-MarkdownHeadingCollapsed": true,
    "tags": []
   },
   "source": [
    "# **What is the VCF file format?**"
   ]
  },
  {
   "cell_type": "markdown",
   "id": "0aba2bd4-7b35-4a02-83d5-5539983aafd0",
   "metadata": {},
   "source": [
    "## A VCF file is essentially a big table with at least 10 columns, 9 columns with information of the variant, and starting from the 10th column it contains information for every processed sample\n",
    "\n",
    "|Field    |Example value          |Description                                                                                                                                         |\n",
    "|:--------|:----------------------|:---------------------------------------------------------------------------------------------------------------------------------------------------|\n",
    "|1: CHROM |1                      |Chromosome in which the variant was detected                                                                                                        |\n",
    "|2: POS   |1053827                |Chromosome position of the variant                                                                                                                  |\n",
    "|3: ID    |rs74685771             |Variant identifier                                                                                                                                  |\n",
    "|4: REF   |G                      |Reference allele                                                                                                                                    |\n",
    "|5: ALT   |C                      |Allele or alleles found in the samples (alternative alleles)                                                                                        |\n",
    "|6: QUAL  |856.77                 |Quality score of the called variant                                                                                                                 |\n",
    "|7: FILTER|PASS                   |Filter flags applied to the variant                                                                                                                 |\n",
    "|8: INFO  |AC=1;                  |Allele count in genotypes, for each ALT allele, in the same order as listed                                                                         |\n",
    "|         |AF=0.500;              |Allele Frequency, for each ALT allele, in the same order as listed                                                                                  |\n",
    "|         |AN=2;                  |Total number of alleles in called genotypes                                                                                                         |\n",
    "|         |BaseQRankSum=-2.129    |Z-score from Wilcoxon rank sum test of Alt Vs. Ref base qualities                                                                                   |\n",
    "|         |ClippingRankSum=-0.286;|Z-score From Wilcoxon rank sum test of Alt vs. Ref number of hard clipped bases                                                                     |\n",
    "|         |DB;                    |Whether or not the variant belongs to a database                                                                                                    |\n",
    "|         |DP=63;                 |Approximate read depth; some reads may have been filtered                                                                                           |\n",
    "|         |FS=0;                  |Phred-scaled p-value using Fisher's exact test to detect strand bias                                                                                |\n",
    "|         |MLEAC=1;               |Maximum likelihood expectation (MLE) for the allele counts (not necessarily the same as the AC), for each ALT allele, in the same order as listed   |\n",
    "|         |MLEAF=0.500;           |Maximum likelihood expectation (MLE) for the allele frequency (not necessarily the same as the AF), for each ALT allele, in the same order as listed|\n",
    "|         |MQ=60.00;              |RMS Mapping Quality                                                                                                                                 |\n",
    "|         |MQRankSum=-0.0.635;    |Z-score From Wilcoxon rank sum test of Alt vs. Ref read mapping qualities                                                                           |\n",
    "|         |QD=13.60;              |Variant Confidence/Quality by Depth                                                                                                                 |\n",
    "|         |ReadPosRankSum=0.621;  |Z-score from Wilcoxon rank sum test of Alt vs. Ref read position bias                                                                               |\n",
    "|         |SOR=0.768;             |Symmetric Odds Ratio of 2x2 contingency table to detect strand bias                                                                                 |\n",
    "|9: FORMAT|GT                     |Genotype                                                                                                                                            |\n",
    "|         |AD                     |Allelic depths for the ref and alt alleles in the order listed                                                                                      |\n",
    "|         |DP                     |Approximate read depth (reads with MQ=255 or with bad mates are filtered)                                                                           |\n",
    "|         |GQ                     |Genotype Quality                                                                                                                                    |\n",
    "|         |PL                     |Normalized, Phred-scaled likelihoods for genotypes as defined in the VCF specification                                                              |\n",
    "|10: g204 |0/1                    |Genotype (heterozygous)                                                                                                                             |\n",
    "|         |37,26                  |Allelic depths for the ref and alt alleles in the order listed: (G)37 reads + (C)26 reads                                                           |\n",
    "|         |63                     |Approximate read depth (reads with MQ=255 or with bad mates are filtered)                                                                           |\n",
    "|         |99                     |Genotype Quality                                                                                                                                    |\n",
    "|         |885,0,1386             |Normalized, Phred-scaled likelihoods for genotypes as defined in the VCF specification                                                              |\n",
    "\n",
    "## Check out the [EBI](https://www.ebi.ac.uk/training/online/courses/human-genetic-variation-introduction/variant-identification-and-analysis/understanding-vcf-format/) page about the VCF format, and the [official documentation](https://samtools.github.io/hts-specs/VCFv4.2.pdf)"
   ]
  },
  {
   "cell_type": "markdown",
   "id": "2adb07e9-d5cd-4ad6-a1cd-b8a00ec19408",
   "metadata": {
    "jp-MarkdownHeadingCollapsed": true,
    "tags": []
   },
   "source": [
    "# **How can I make sense of my VCF files?**"
   ]
  },
  {
   "cell_type": "markdown",
   "id": "2861a7ac-e7f7-426f-bdf4-5e28f615a45d",
   "metadata": {},
   "source": [
    "## From a quick inspection you will see that the VCF file has thousands of rows, therefore you might have guessed already that making sense of the VCF files is not an easy task\n",
    "\n",
    "\n",
    "## The first thing we'll do is filter our VCF file because even when the variant caller software does a great job calling the variants, some of them still have some background noise which can result in false positive or low quality calls or dubious calls"
   ]
  },
  {
   "cell_type": "markdown",
   "id": "5cbee6fe-cff7-4988-8e44-57b1a050758c",
   "metadata": {
    "jp-MarkdownHeadingCollapsed": true,
    "tags": []
   },
   "source": [
    "# **Let's get our hands dirty!**"
   ]
  },
  {
   "cell_type": "markdown",
   "id": "aac80eb3-f7cd-4556-b95e-7caaa25e90ef",
   "metadata": {},
   "source": [
    "## **Functions and libraries to use**\n",
    "## We'll use the python libraries [Pandas](https://pandas.pydata.org/) and [Seaborn](https://seaborn.pydata.org/) to explore our variants\n",
    "\n",
    "### If you want to install pandas in your system (let's assume you're using ubuntu) follow this simple steps.\n",
    "\n",
    "<pre>\n",
    "apt-get install python3-pip\n",
    "pip3 install pandas\n",
    "pip3 install seaborn\n",
    "pip3 install matplotlib\n",
    "pip3 install IPython\n",
    "</pre>"
   ]
  },
  {
   "cell_type": "markdown",
   "id": "e37f04be-2cbd-4ac8-8889-1a92c07dc84d",
   "metadata": {
    "slideshow": {
     "slide_type": "subslide"
    },
    "tags": []
   },
   "source": [
    "## **First, we need to launch our libraries and prepare our space for the output data**"
   ]
  },
  {
   "cell_type": "code",
   "execution_count": null,
   "id": "982109d9-4ab5-4ad0-b603-44d1cd91ae4e",
   "metadata": {},
   "outputs": [],
   "source": [
    "import pandas as pd\n",
    "import seaborn as sns\n",
    "import matplotlib.pyplot as plt\n",
    "import numpy as np"
   ]
  },
  {
   "cell_type": "markdown",
   "id": "b777ef14-51b5-44fd-9904-38b1c390a96b",
   "metadata": {
    "tags": []
   },
   "source": [
    "## The next functions are going to help us during the workshop\n",
    "### **Don't worry if at first they seem a bit odd, they will make sense once we start using them** "
   ]
  },
  {
   "cell_type": "markdown",
   "id": "b470f25b-9e5e-42df-85e4-0a1a8b71adb0",
   "metadata": {
    "tags": []
   },
   "source": [
    "### With the following function we transform the **INFO** field in the VCF file to a more readable python list"
   ]
  },
  {
   "cell_type": "code",
   "execution_count": null,
   "id": "e44edbb6-093a-437e-98a8-91260a727e70",
   "metadata": {
    "tags": []
   },
   "outputs": [],
   "source": [
    "def get_variant_info(info_str):\n",
    "    out_list = []\n",
    "    info_arr = info_str.split(\";\")\n",
    "    for line in info_arr:\n",
    "        if \"=\" in line:\n",
    "            line_arr    = line.split(\"=\")\n",
    "            field_name  = line_arr[0]\n",
    "            field_value = line_arr[1]\n",
    "            if field_name == \"DP\":\n",
    "                field_value = int(field_value)\n",
    "                out_list.insert(1,field_value)\n",
    "            elif field_name == \"QD\":\n",
    "                field_value = float(field_value)\n",
    "                out_list.insert(2,field_value)\n",
    "    return out_list"
   ]
  },
  {
   "cell_type": "markdown",
   "id": "8a3f8f9c-42c1-4aae-ac19-e8adea1432c7",
   "metadata": {},
   "source": [
    "### With the following function we transform the **INFO** field in the VCF file to a more readable python dictionary"
   ]
  },
  {
   "cell_type": "code",
   "execution_count": null,
   "id": "95e83591",
   "metadata": {},
   "outputs": [],
   "source": [
    "def get_variant_annotation(info_str):\n",
    "    info_list = info_str.split(\";\")\n",
    "    info_dict = {}\n",
    "    ann_field_list = [\"Allele\",          \"Consequence\",        \"IMPACT\",           \"SYMBOL\",\n",
    "                      \"Gene\",            \"Feature_type\",       \"Feature\",          \"BIOTYPE\",\n",
    "                      \"EXON\",            \"INTRON\",             \"HGVSc\",            \"HGVSp\",\n",
    "                      \"cDNA_position\",   \"CDS_position\",       \"Protein_position\", \"Amino_acids\",\n",
    "                      \"Codons\",          \"Existing_variation\", \"DISTANCE\",         \"STRAND\",\n",
    "                      \"FLAGS\",           \"SYMBOL_SOURCE\",      \"HGNC_ID\",          \"CANONICAL\",\n",
    "                      \"MANE_SELECT\",     \"REFSEQ_MATCH\",       \"SOURCE\",           \"REFSEQ_OFFSET\",\n",
    "                      \"AF\",              \"AFR_AF\",             \"AMR_AF\",           \"EAS_AF\",\n",
    "                      \"EUR_AF\",\"SAS_AF\", \"gnomADe_AF\",         \"gnomADe_AFR_AF\",   \"gnomADe_AMR_AF\",\n",
    "                      \"gnomADe_ASJ_AF\",  \"gnomADe_EAS_AF\",     \"gnomADe_FIN_AF\",   \"gnomADe_NFE_AF\",\n",
    "                      \"gnomADe_OTH_AF\",  \"gnomADe_SAS_AF\",     \"FREQS\",            \"CLIN_SIG\",\n",
    "                      \"SOMATIC\",         \"PHENO\"]\n",
    "    for element in info_list:\n",
    "        if(\"=\" in element):\n",
    "            element_key   = element.split(\"=\")[0]\n",
    "            element_value = element.split(\"=\")[1]\n",
    "            if (element_key == \"ANN\"):\n",
    "                consequence_list = element_value.split(\",\")\n",
    "                ann_list = []\n",
    "                for consequence in consequence_list:\n",
    "                    ann_field_values = consequence.split(\"|\")\n",
    "                    ann_dict = dict(zip(ann_field_list, ann_field_values))\n",
    "                    ann_list.append(ann_dict)\n",
    "            else:\n",
    "                ann_list = []\n",
    "    return ann_list"
   ]
  },
  {
   "cell_type": "markdown",
   "id": "d0b55575-42ec-4ce3-abef-bbfb7c7fe3c1",
   "metadata": {},
   "source": [
    "### With the following function we can classify our variants based on their **allele frequencies**"
   ]
  },
  {
   "cell_type": "code",
   "execution_count": null,
   "id": "6ba3765e",
   "metadata": {},
   "outputs": [],
   "source": [
    "def get_variant_freq_type(ann_list):\n",
    "    if(len(ann_list)>=1):\n",
    "        global_af_list = []\n",
    "        gnomad_af_list = []\n",
    "        for consequence in ann_list:\n",
    "            if ((\"AF\" in consequence) & (consequence[\"AF\"]!=\"\")):\n",
    "                global_af_list.append(float(consequence[\"AF\"]))\n",
    "            if ((\"gnomADe_AF\" in consequence) & (consequence[\"gnomADe_AF\"]!=\"\")):\n",
    "                gnomad_af_list.append(float(consequence[\"gnomADe_AF\"]))\n",
    "            if(len(global_af_list)>=1):\n",
    "                global_af = sum(global_af_list)/len(global_af_list)\n",
    "            else:\n",
    "                global_af = np.nan\n",
    "            if(len(gnomad_af_list)>=1):\n",
    "                gnomad_af = sum(gnomad_af_list)/len(gnomad_af_list)\n",
    "            else:\n",
    "                gnomad_af = np.nan\n",
    "        if ((global_af  <= 0.01) & (gnomad_af <=0.01)):\n",
    "            var_freq_type = \"very rare\"\n",
    "        elif((global_af  > 0.01) & (gnomad_af <=0.01)):\n",
    "            var_freq_type = \"rare\"\n",
    "        elif((global_af <= 0.01) & (gnomad_af > 0.01)):\n",
    "            var_freq_type = \"rare\"\n",
    "        elif((global_af  > 0.01) & (gnomad_af > 0.01)):\n",
    "            var_freq_type = \"common\"\n",
    "        else:\n",
    "            var_freq_type = \"na\"\n",
    "    else:\n",
    "        var_freq_type = \"na\"\n",
    "    return var_freq_type"
   ]
  },
  {
   "cell_type": "markdown",
   "id": "81b6cb97-564d-4f10-b43f-26416483a811",
   "metadata": {},
   "source": [
    "### With the following function we can obtain the **list of impacts** each variant has on the gene in which they reside"
   ]
  },
  {
   "cell_type": "code",
   "execution_count": null,
   "id": "2086f97a-adce-47aa-83f4-05eeba34b26d",
   "metadata": {},
   "outputs": [],
   "source": [
    "def get_impact_list(ann_list):\n",
    "    impact_list = []\n",
    "    for annotation in ann_list:\n",
    "        impact = annotation[\"IMPACT\"]\n",
    "        impact_list.append(impact)\n",
    "    impact_list = list(set(impact_list))\n",
    "    return impact_list"
   ]
  },
  {
   "cell_type": "markdown",
   "id": "c9e73c32-189b-4d90-8599-e1c7df8a5881",
   "metadata": {},
   "source": [
    "### With the following function we can **classify** our variants as relevant or non-relevant based on their predicted genetic **impact**"
   ]
  },
  {
   "cell_type": "code",
   "execution_count": null,
   "id": "ac1449b9-8656-4298-9e28-b4cd6520fd80",
   "metadata": {},
   "outputs": [],
   "source": [
    "def get_impact_type(impact_list):\n",
    "    relevant = [\"MODERATE\",\"HIGH\"]\n",
    "    impact_type = \"\"\n",
    "    if (len(impact_list) != 0):\n",
    "        for impact in impact_list:\n",
    "            if (impact in(relevant)):\n",
    "                impact_type = \"relevant\"\n",
    "                break\n",
    "            else:\n",
    "                impact_type = \"non-relevant\"\n",
    "    else:\n",
    "        impact_type = \"relevant\"\n",
    "    return impact_type"
   ]
  },
  {
   "cell_type": "markdown",
   "id": "5b187329-2f44-43d6-868a-9e9c0aff99ae",
   "metadata": {},
   "source": [
    "### With the following function we can classify our variants as relevant or non-relevant based on their **clinical annotations**"
   ]
  },
  {
   "cell_type": "code",
   "execution_count": null,
   "id": "a43282f0-9133-446c-a79a-d9e80c6666df",
   "metadata": {},
   "outputs": [],
   "source": [
    "def get_clin_type(ann_list):\n",
    "    clin_sig_list = []\n",
    "    for annotation in ann_list:\n",
    "        clin_ann_list = annotation[\"CLIN_SIG\"].split(\"&\")\n",
    "        for clin_sig in clin_ann_list:\n",
    "            clin_ann_sub_list = clin_sig.split(\"/\")\n",
    "            for clin_sub_sig in clin_ann_sub_list:\n",
    "                clin_sig_list.append(clin_sub_sig)\n",
    "    clin_sig_list = set(clin_sig_list)\n",
    "    benign_list = [\"benign\",\"likely_benign\"]\n",
    "    benign_list = set(benign_list)\n",
    "    if (len(clin_sig_list.intersection(benign_list)) > 0):\n",
    "        clin_type = \"benign\"\n",
    "    else:\n",
    "        clin_type = list(clin_sig_list)\n",
    "    return clin_type"
   ]
  },
  {
   "cell_type": "markdown",
   "id": "876e5d5e-7a99-4f76-9531-94112c77eb62",
   "metadata": {},
   "source": [
    "### With the following function we can determine the **genotype** of our variants"
   ]
  },
  {
   "cell_type": "code",
   "execution_count": null,
   "id": "4812ef1b-ca63-4fad-9483-23e0050f95eb",
   "metadata": {},
   "outputs": [],
   "source": [
    "def get_genotype(sample_str):\n",
    "    allele_gt = sample_str.split(\":\")[0].split(\"/\")\n",
    "    if(allele_gt[0]==allele_gt[1]):\n",
    "        genotype = \"homozygous\"\n",
    "    else:\n",
    "        genotype = \"heterozygous\"\n",
    "    return genotype"
   ]
  },
  {
   "cell_type": "markdown",
   "id": "9aaf2744-2a04-45bf-8f3f-55cab85087df",
   "metadata": {},
   "source": [
    "### With the following function we can determine the **SYMBOL** of our variants"
   ]
  },
  {
   "cell_type": "code",
   "execution_count": null,
   "id": "65ceab40-452b-444b-9a49-ff6bc1488d2f",
   "metadata": {},
   "outputs": [],
   "source": [
    "def get_affected_genes(ann_list):\n",
    "    gene_list = []\n",
    "    for annotation in ann_list:\n",
    "        symbol = annotation[\"SYMBOL\"]\n",
    "        gene_list.append(symbol)\n",
    "    gene_list = list(set(gene_list))\n",
    "    return gene_list"
   ]
  },
  {
   "cell_type": "markdown",
   "id": "4ac3772e-883b-40c5-82c1-ba4387708018",
   "metadata": {},
   "source": [
    "### With the following function we can determine the **gene_panel** of our variants"
   ]
  },
  {
   "cell_type": "code",
   "execution_count": null,
   "id": "f84815c2-3b49-4e88-a990-f9d81dc08e92",
   "metadata": {},
   "outputs": [],
   "source": [
    "def get_panel_type(gene_list,gene_panel):\n",
    "    if(len(gene_list)!=0):\n",
    "        for gene in gene_list:\n",
    "            if (gene in(gene_panel)):\n",
    "                variant_type = \"included\"\n",
    "                break\n",
    "            else:\n",
    "                variant_type = \"excluded\"\n",
    "    else:\n",
    "        variant_type = \"excluded\"\n",
    "    return variant_type"
   ]
  },
  {
   "cell_type": "markdown",
   "id": "6dc01bff-cd1b-4326-923a-b7c02af28110",
   "metadata": {
    "jp-MarkdownHeadingCollapsed": true,
    "tags": []
   },
   "source": [
    "## **Now that we have our libraries and functions loaded, it is time to start playing with our VCF file**"
   ]
  },
  {
   "cell_type": "markdown",
   "id": "f138d8e9-b71b-419b-b727-9b592bfd92e9",
   "metadata": {
    "jp-MarkdownHeadingCollapsed": true,
    "tags": []
   },
   "source": [
    "# **Step 0:** Load a VCF file"
   ]
  },
  {
   "cell_type": "code",
   "execution_count": null,
   "id": "53e4417c-ac74-4189-bf13-ed5d6631b320",
   "metadata": {},
   "outputs": [],
   "source": [
    "df = pd.read_csv(\"JAS_N36.vcf.gz\",\n",
    "                 sep=\"\\t\",\n",
    "                 comment=\"#\",\n",
    "                 dtype=\"str\",\n",
    "                 header=None,\n",
    "                 names=[\"chr\",\"pos\",\"id\",\"ref\",\"alt\",\"qual\",\"filter\",\"info\",\"format\",\"sample\"])"
   ]
  },
  {
   "cell_type": "markdown",
   "id": "1584154e-b0df-4001-b4f8-d6bd01ed0b9f",
   "metadata": {
    "jp-MarkdownHeadingCollapsed": true,
    "tags": []
   },
   "source": [
    " # **Step 1:** Make our VCF more readable"
   ]
  },
  {
   "cell_type": "markdown",
   "id": "5cc0349d-5660-42a2-a890-fe5576993c98",
   "metadata": {},
   "source": [
    "## The info field in the VCF contains a lot of information, but we can use one of the functions we loaded previously to get a clearer picture of what's contained in such field, and also to help pandas understand better how we can filter the file"
   ]
  },
  {
   "cell_type": "markdown",
   "id": "219e30d9-2b21-4bcd-8cdb-bb3bac882eb9",
   "metadata": {},
   "source": [
    "## Let's get some useful information, not every variant was sequenced properly, and not all variants have the same genotype quality"
   ]
  },
  {
   "cell_type": "markdown",
   "id": "8284f688",
   "metadata": {},
   "source": [
    "![variants_coverage](images/variants_coverage.png)"
   ]
  },
  {
   "cell_type": "markdown",
   "id": "7dbcaa02",
   "metadata": {},
   "source": [
    "## With the following lines we can get those numbers so that we can later get rid of dubious variants"
   ]
  },
  {
   "cell_type": "code",
   "execution_count": null,
   "id": "06387bdf-6c9a-41c0-a0ac-ab19eb73cad4",
   "metadata": {},
   "outputs": [],
   "source": [
    "df[\"depth\"] = df[\"info\"].apply(lambda x: get_variant_info(x)[0])\n",
    "df[\"qd\"]    = df[\"info\"].apply(lambda x: get_variant_info(x)[1])"
   ]
  },
  {
   "cell_type": "code",
   "execution_count": null,
   "id": "3091ff7c-1a8a-4ce6-896f-3499780242a7",
   "metadata": {},
   "outputs": [],
   "source": [
    "df"
   ]
  },
  {
   "cell_type": "markdown",
   "id": "c4c25942-61b7-4828-bc47-1bb9475e3ace",
   "metadata": {},
   "source": [
    "## Also, there are some funky chromosome identifiers in our VCF, those correspond to [unplaced sequences](https://www.ncbi.nlm.nih.gov/grc/help/definitions/) in the primary assembly, for the time being we will not use them, but they can be quite useful if you're working with specific populations\n",
    "\n",
    "## With the following list we are going to keep only the chromosomes in the primary assembly"
   ]
  },
  {
   "cell_type": "code",
   "execution_count": null,
   "id": "30c8bed3-c2df-4aff-b44a-6339d072ef16",
   "metadata": {},
   "outputs": [],
   "source": [
    "chr_list=[\"chr1\", \"chr2\", \"chr3\", \"chr4\", \"chr5\",\n",
    "          \"chr6\", \"chr7\", \"chr8\", \"chr9\", \"chr10\",\n",
    "          \"chr11\",\"chr12\",\"chr13\",\"chr14\",\"chr15\",\n",
    "          \"chr16\",\"chr17\",\"chr18\",\"chr19\",\"chr20\",\n",
    "          \"chr21\",\"chr22\",\"chrX\", \"chrY\", \"chrM\"]"
   ]
  },
  {
   "cell_type": "markdown",
   "id": "55df4a70-248e-461e-af05-8ec5db973581",
   "metadata": {
    "jp-MarkdownHeadingCollapsed": true,
    "tags": []
   },
   "source": [
    "# **Step 2:** Basic filtering of our VCF file"
   ]
  },
  {
   "cell_type": "markdown",
   "id": "7b529f2b-de10-4550-8f0b-dd4dc2f5e750",
   "metadata": {},
   "source": [
    "## With these lines we'll get rid of dubious variants, which will make the dataset smaller, more manageable and more precise"
   ]
  },
  {
   "cell_type": "code",
   "execution_count": null,
   "id": "b4344e29-270e-4d99-9d1b-d60d06eb4031",
   "metadata": {},
   "outputs": [],
   "source": [
    "filt_df = df.copy()\n",
    "filt_df = filt_df[(filt_df[\"depth\"]>=20) & (filt_df[\"qd\"]>10) & (filt_df[\"chr\"].isin(chr_list))]\n",
    "filt_df.drop([\"depth\",\"qd\"],axis=1,inplace=True)"
   ]
  },
  {
   "cell_type": "code",
   "execution_count": null,
   "id": "23dabc20-92d6-4a41-922f-1ec28050b860",
   "metadata": {},
   "outputs": [],
   "source": [
    "len (df)"
   ]
  },
  {
   "cell_type": "markdown",
   "id": "7ad9a698-1b63-4818-8275-80ed4e1ca3d1",
   "metadata": {
    "jp-MarkdownHeadingCollapsed": true,
    "tags": []
   },
   "source": [
    "# **Step 3**: Predicting and annotating the effects of the observed variants "
   ]
  },
  {
   "cell_type": "markdown",
   "id": "71a24ba4-98f7-4442-aeb6-4a11cb49c1fa",
   "metadata": {},
   "source": [
    "## Our VCF **at the moment does not have information about the affected genes or the impact** of the variants, but we can use the Ensembl Variant Effect Predictor (**VEP**) to do that job.\n",
    "\n",
    "## First we save the dataframe to a new file"
   ]
  },
  {
   "cell_type": "code",
   "execution_count": null,
   "id": "9777982d-de35-417e-b0d0-4efd7175ccc3",
   "metadata": {},
   "outputs": [],
   "source": [
    "filt_df.to_csv(\"JAS_N36.filt.vcf\",sep=\"\\t\",index=False,header=False)"
   ]
  },
  {
   "cell_type": "markdown",
   "id": "82fde68d-1776-415d-ab6a-9f51614cc45c",
   "metadata": {},
   "source": [
    "## Then we run the VEP to get information of our variants"
   ]
  },
  {
   "cell_type": "raw",
   "id": "a57512ff-5cba-4953-adb1-36f22d351623",
   "metadata": {},
   "source": [
    "vep --input_file  JAS_N36.filt.vcf.gz \\\n",
    "    --output_file JAS_N36.filt.vep.vcf.gz \\\n",
    "    --cache \\\n",
    "    --merged \\\n",
    "    --dir /usr/local/bioinformatics/databases/vep \\\n",
    "    --fork 12 \\\n",
    "    --force \\\n",
    "    --format vcf \\\n",
    "    --compress_output gzip \\\n",
    "    --vcf \\\n",
    "    --vcf_info_field ANN \\\n",
    "    --canonical \\\n",
    "    --no_intergenic \\\n",
    "    --distance 10 \\\n",
    "    --offline \\\n",
    "    --use_given_ref \\\n",
    "    --filter_common \\\n",
    "    --mane_select \\\n",
    "    --biotype \\\n",
    "    --af_1kg \\\n",
    "    --af_gnomade"
   ]
  },
  {
   "cell_type": "markdown",
   "id": "efce287d-1101-4c84-a5ea-42228b670208",
   "metadata": {
    "tags": []
   },
   "source": [
    "## Here's a **brief summary** of the vep output ([link](JAS_N36.filt.vep.vcf_summary.html))"
   ]
  },
  {
   "cell_type": "markdown",
   "id": "bf24956a-cd97-4f90-bf27-b38e01d9e8b1",
   "metadata": {
    "jp-MarkdownHeadingCollapsed": true,
    "tags": []
   },
   "source": [
    "# **Step 4:** read the VEP processed VCF file"
   ]
  },
  {
   "cell_type": "code",
   "execution_count": null,
   "id": "aef64ad3-5b6e-4609-aae0-f6be199ea99c",
   "metadata": {},
   "outputs": [],
   "source": [
    "vep_df = pd.read_csv(\"JAS_N36.filt.vep.vcf.gz\",\n",
    "                     sep=\"\\t\",\n",
    "                     comment=\"#\",\n",
    "                     dtype=\"str\",\n",
    "                     header=None,\n",
    "                     names=[\"chr\",\"pos\",\"id\",\"ref\",\"alt\",\"qual\",\"filter\",\"info\",\"format\",\"sample\"])"
   ]
  },
  {
   "cell_type": "markdown",
   "id": "00e27b9f-2623-4aac-bcc0-5300c75fde6b",
   "metadata": {
    "jp-MarkdownHeadingCollapsed": true,
    "tags": []
   },
   "source": [
    "# **Step 5**: Make our VCF readable again"
   ]
  },
  {
   "cell_type": "markdown",
   "id": "02a2a76e-b42e-4f8c-b6dd-9914f6317abd",
   "metadata": {},
   "source": [
    "## Take a quick look at the info field, as you can see there's plenty of information there, thus, we need to make it more readable"
   ]
  },
  {
   "cell_type": "code",
   "execution_count": null,
   "id": "8166637a-19b8-441b-b945-9e9cf3bf1969",
   "metadata": {},
   "outputs": [],
   "source": [
    "vep_df"
   ]
  },
  {
   "cell_type": "code",
   "execution_count": null,
   "id": "c3c394e4-ff7b-4eb7-ab83-f5542773b865",
   "metadata": {},
   "outputs": [],
   "source": [
    "print(vep_df[\"info\"][0])"
   ]
  },
  {
   "cell_type": "markdown",
   "id": "48437f86-b204-4b1a-b079-5d7f08debc2c",
   "metadata": {},
   "source": [
    "## **Let's make it more readable!**"
   ]
  },
  {
   "cell_type": "code",
   "execution_count": null,
   "id": "10455d71",
   "metadata": {},
   "outputs": [],
   "source": [
    "ann_vcf_df = vep_df.copy()\n",
    "ann_vcf_df[\"annotation\"] = ann_vcf_df[\"info\"].apply(lambda x: get_variant_annotation(x))"
   ]
  },
  {
   "cell_type": "code",
   "execution_count": null,
   "id": "a3b15f50-8b9a-40ee-bd64-fe5f888c1a12",
   "metadata": {},
   "outputs": [],
   "source": [
    "ann_vcf_df"
   ]
  },
  {
   "cell_type": "markdown",
   "id": "cc9e1c8e-ada5-4820-9ca1-858e3943eed2",
   "metadata": {},
   "source": [
    "## **And now let's see how it looks**"
   ]
  },
  {
   "cell_type": "code",
   "execution_count": null,
   "id": "2185d309-1f08-43c2-94d6-ce4fac60e53d",
   "metadata": {},
   "outputs": [],
   "source": [
    "ann_vcf_df[\"annotation\"][0][0]"
   ]
  },
  {
   "cell_type": "markdown",
   "id": "c6e71570-9517-45c8-b7eb-da8c75841f8e",
   "metadata": {
    "jp-MarkdownHeadingCollapsed": true,
    "tags": []
   },
   "source": [
    "# **Step 6**: Exclude common variants from the dataset"
   ]
  },
  {
   "cell_type": "markdown",
   "id": "63409842-d2b7-4aa9-b2b6-ff97f0dc64b2",
   "metadata": {
    "tags": []
   },
   "source": [
    "## You have variants in your genome, the trainer has variants in their genome, which ones are shared and which ones are relevant.\n",
    "\n",
    "## A rule of thumb is that if a variant is shared among healthy individuals (i.e. it is common) it shouldn't be associated with any disease.\n",
    "\n",
    "![frequencies](images/frequencies.png)\n",
    "\n",
    "### [Manolio *et al.* 2009. ](https://www.nature.com/articles/nature08494)\n",
    "\n",
    "## Therefore, if we remove such variants we'll be getting close to  finding the proverbial needle in the haystack"
   ]
  },
  {
   "cell_type": "markdown",
   "id": "6b76fb89-6d61-4967-9771-d953ec37efcf",
   "metadata": {},
   "source": [
    "## Let's classify our variants as common or rare based on their allele frequencies in projects such as [gnomAD](https://gnomad.broadinstitute.org/) or [1000 genomes](https://www.genome.gov/27528684/1000-genomes-project)"
   ]
  },
  {
   "cell_type": "code",
   "execution_count": null,
   "id": "10e8a06a-c362-48a4-8565-04764011a580",
   "metadata": {},
   "outputs": [],
   "source": [
    "ann_vcf_df[\"freq_type\"] = ann_vcf_df[\"annotation\"].apply(lambda x: get_variant_freq_type(x))"
   ]
  },
  {
   "cell_type": "markdown",
   "id": "194099b6-2f93-4f68-badc-c6be60fb4138",
   "metadata": {},
   "source": [
    "## And then we **exclude** the *common variants*"
   ]
  },
  {
   "cell_type": "code",
   "execution_count": null,
   "id": "0bafcd05-9e5d-4026-b4c9-cebba1088720",
   "metadata": {},
   "outputs": [],
   "source": [
    "rare_vcf_df = ann_vcf_df.copy()\n",
    "rare_vcf_df = rare_vcf_df[rare_vcf_df[\"freq_type\"]!=\"common\"]"
   ]
  },
  {
   "cell_type": "code",
   "execution_count": null,
   "id": "aaf1b621-5cbd-4ae2-b935-25af57231708",
   "metadata": {},
   "outputs": [],
   "source": [
    "rare_vcf_df"
   ]
  },
  {
   "cell_type": "markdown",
   "id": "933c6bcc-11f1-4025-8982-b60f21376fa2",
   "metadata": {
    "jp-MarkdownHeadingCollapsed": true,
    "tags": []
   },
   "source": [
    "# **Step 7:** The harder they hit, the easier they're found"
   ]
  },
  {
   "cell_type": "markdown",
   "id": "e9309409-5b68-4767-abee-45b817055d1c",
   "metadata": {},
   "source": [
    "## Not all variants have the same effect, some of them might be completely harmless despite being very rare. Fortunately for us the VEP provides the information on how each variant impacts each gene"
   ]
  },
  {
   "cell_type": "markdown",
   "id": "5b9d6617-d65e-46c7-9cf8-d246973ea9aa",
   "metadata": {},
   "source": [
    "## Let's get the **impact** of each variant with one of the functions we constructed earlier"
   ]
  },
  {
   "cell_type": "code",
   "execution_count": null,
   "id": "cc847395-7dd9-4bd2-bea1-3b557506d563",
   "metadata": {},
   "outputs": [],
   "source": [
    "impact_vcf_df = rare_vcf_df.copy()\n",
    "impact_vcf_df[\"impact_list\"] = impact_vcf_df[\"annotation\"].apply(lambda x: get_impact_list(x))"
   ]
  },
  {
   "cell_type": "code",
   "execution_count": null,
   "id": "c322ad9b-189c-487c-897e-97fabc7d1ffa",
   "metadata": {},
   "outputs": [],
   "source": [
    "impact_vcf_df"
   ]
  },
  {
   "cell_type": "markdown",
   "id": "c20ae303-a4c8-4290-be7d-e98e4a69ff25",
   "metadata": {},
   "source": [
    "## Based on the impacts of each variant, we can classify them as relevant or non-relevant"
   ]
  },
  {
   "cell_type": "code",
   "execution_count": null,
   "id": "37e9b160-18af-4487-8653-3edab6b231b6",
   "metadata": {},
   "outputs": [],
   "source": [
    "relevant_vcf_df = impact_vcf_df.copy()\n",
    "relevant_vcf_df[\"impact_type\"] = relevant_vcf_df[\"impact_list\"].apply(lambda x: get_impact_type(x))"
   ]
  },
  {
   "cell_type": "markdown",
   "id": "840a8227-cd6c-475a-9dba-826bff6ff82d",
   "metadata": {},
   "source": [
    "### And then we **remove the variants with only LOW or MODIFIER impacts**.\n",
    "\n",
    "## *Why did we keep only the variants with HIGH or MODERATE impacts?*\n",
    "\n",
    "### Because the LOW and MODIFIERS pretty much are not that relevant, for more information, **here's a very useful [link](https://www.ensembl.org/info/genome/variation/prediction/predicted_data.html)** from our friends of Ensembl"
   ]
  },
  {
   "cell_type": "code",
   "execution_count": null,
   "id": "747162c3-b21d-4097-9596-1d9a23d266b6",
   "metadata": {},
   "outputs": [],
   "source": [
    "relevant_vcf_df = relevant_vcf_df[relevant_vcf_df[\"impact_type\"]==\"relevant\"]"
   ]
  },
  {
   "cell_type": "markdown",
   "id": "a930e461-71c4-4c6b-ac27-da61d64e5e50",
   "metadata": {
    "jp-MarkdownHeadingCollapsed": true,
    "tags": []
   },
   "source": [
    "# **Step 8:** Exluding mostly harmless variants"
   ]
  },
  {
   "cell_type": "markdown",
   "id": "78ceca08-80d8-4c79-8667-da2f9eb27f49",
   "metadata": {},
   "source": [
    "## Many variants, despite being rare and despite being predicted as having a high impact on the gene in which they reside, are harmless [[source](https://www.ncbi.nlm.nih.gov/clinvar/docs/clinsig/)]\n",
    "\n",
    "## We can use another function to see which variants are harmless (benign or likely benign) and which ones are potentially dangerous"
   ]
  },
  {
   "cell_type": "code",
   "execution_count": null,
   "id": "633266b2-a629-472c-b55b-796b8b3baba6",
   "metadata": {},
   "outputs": [],
   "source": [
    "clin_vcf_df = relevant_vcf_df.copy()\n",
    "clin_vcf_df[\"clin_sig\"] = clin_vcf_df[\"annotation\"].apply(lambda x: get_clin_type(x))"
   ]
  },
  {
   "cell_type": "markdown",
   "id": "17d5bea8-344c-4e2e-9f6b-e18c3a899e36",
   "metadata": {},
   "source": [
    "## And then we remove the ones that are harmless"
   ]
  },
  {
   "cell_type": "code",
   "execution_count": null,
   "id": "ce3cd250-5902-4a13-b056-a3adcd2750cc",
   "metadata": {},
   "outputs": [],
   "source": [
    "clin_vcf_df = clin_vcf_df[clin_vcf_df[\"clin_sig\"]!=\"benign\"]"
   ]
  },
  {
   "cell_type": "code",
   "execution_count": null,
   "id": "8724abe5-c8ef-4bad-a330-47cebd25b662",
   "metadata": {},
   "outputs": [],
   "source": [
    "clin_vcf_df"
   ]
  },
  {
   "cell_type": "markdown",
   "id": "655044ed-6e0e-4eab-a6c8-e446ddf5bccb",
   "metadata": {
    "jp-MarkdownHeadingCollapsed": true,
    "tags": []
   },
   "source": [
    "# **Step 9:** Progress "
   ]
  },
  {
   "cell_type": "markdown",
   "id": "237a3268-98e2-4582-915c-f515b5377276",
   "metadata": {},
   "source": [
    "## So far we have filtered out many variants, in order to find the proverbial needle, we need to remove as much hay as possible\n",
    "\n",
    "|Dataframe      |Contents                                                             |\n",
    "|:-------------:|:-------------------------------------------------------------------:|\n",
    "|df             |Original dataset                                                     |\n",
    "|filt_df        |High quality and well sequenced ariants                              |\n",
    "|rare_vcf_df    |Variants of low allele frequencies                                   |\n",
    "|relevant_vcf_df|Variants of HIGH/MODERATE impact                                     |\n",
    "|clin_vcf_df    |Variants that could potentially be pathogenic or phenotype associated|"
   ]
  },
  {
   "cell_type": "code",
   "execution_count": null,
   "id": "d6860e1b-a91a-4644-bfa3-2294adf6642d",
   "metadata": {},
   "outputs": [],
   "source": [
    "print(len(df))\n",
    "print(len(filt_df))\n",
    "print(len(rare_vcf_df))\n",
    "print(len(relevant_vcf_df))\n",
    "print(len(clin_vcf_df))"
   ]
  },
  {
   "cell_type": "markdown",
   "id": "cad5bd36-295e-419a-b4c9-21a80a708670",
   "metadata": {
    "jp-MarkdownHeadingCollapsed": true,
    "tags": []
   },
   "source": [
    "# **Step 10:** Double the dose, double the fun"
   ]
  },
  {
   "cell_type": "markdown",
   "id": "052d243d-8dd8-43eb-b7b7-d8591a1c6a7b",
   "metadata": {},
   "source": [
    "## So far we have been doing a great deal of data analysis, but we should not forget that in clinical cases every piece of information counts\n",
    "\n",
    "## The authors reported that the patients were descendents of endogamous parents"
   ]
  },
  {
   "cell_type": "markdown",
   "id": "cda83bc5-32c0-460e-8488-2103f67037f9",
   "metadata": {},
   "source": [
    "<img src=\"images/homozygosity_01.png\" width=\"600px\" />"
   ]
  },
  {
   "cell_type": "markdown",
   "id": "59ed1e0c-263b-4f87-8460-39933aebaa5d",
   "metadata": {},
   "source": [
    "## Each variant has a **genotype**\n",
    "### We call variants *heterozygous* if one of the copies (either from mom or dad) has a version of the gene, and the other copy has a different version.\n",
    "### **Homozygous** variants are variants in which the two copies are identical but different from the reference genome\n",
    "\n",
    "<img src=\"images/genotypes.png\" width=\"600px\" />"
   ]
  },
  {
   "cell_type": "markdown",
   "id": "302d7e4d-b16d-47f7-854c-9e720ccbc5cb",
   "metadata": {},
   "source": [
    "## When the parents of the patient are endogamous (i.e. they are related) there can be stretches in which only homozygous variants are observed\n",
    "\n",
    "## We don't need super-fancy tools to detect such regions, let's use one of the functions we constructed and then plot the results\n",
    "\n",
    "### Because we already filtered a lot of variants, let's go back a bit and use only the variants of high quality"
   ]
  },
  {
   "cell_type": "code",
   "execution_count": null,
   "id": "1347668d-2544-4532-90ca-1805c35cf92f",
   "metadata": {},
   "outputs": [],
   "source": [
    "filt_df[\"pos\"]      = filt_df[\"pos\"].astype(int)\n",
    "filt_df[\"genotype\"] = filt_df[\"sample\"].apply(lambda x: get_genotype(x))"
   ]
  },
  {
   "cell_type": "code",
   "execution_count": null,
   "id": "3a4db646-eb11-4831-9e1d-0449ee74c32e",
   "metadata": {},
   "outputs": [],
   "source": [
    "plt.figure(figsize=(18,6))\n",
    "ax = sns.stripplot(data=filt_df, x=\"chr\", y=\"pos\", hue=\"genotype\")\n",
    "ax.set(ylabel=\"\")\n",
    "plt.show()\n",
    "plt.close()"
   ]
  },
  {
   "cell_type": "markdown",
   "id": "e580fea3-be04-4895-aeda-91c9f726fc76",
   "metadata": {
    "jp-MarkdownHeadingCollapsed": true,
    "tags": []
   },
   "source": [
    "## **Do you see the sections of high homozygosity?**"
   ]
  },
  {
   "cell_type": "markdown",
   "id": "d71bbbfb-009c-4306-bdd1-1d8a9b6012c2",
   "metadata": {},
   "source": [
    "<img src=\"images/homozygosity_02.png\" width=\"600px\"/>"
   ]
  },
  {
   "cell_type": "markdown",
   "id": "0ecdb55e-30c3-4357-8ad0-496df6dea4ee",
   "metadata": {},
   "source": [
    "## Since we have the incredibly useful information that the patients' parents are endogamous, we can focus only on the homozygous variants"
   ]
  },
  {
   "cell_type": "code",
   "execution_count": null,
   "id": "863a354b-5f2e-4bff-b2bd-175e4dcd94da",
   "metadata": {},
   "outputs": [],
   "source": [
    "clin_vcf_df[\"genotype\"] = clin_vcf_df[\"sample\"].apply(lambda x: get_genotype(x))\n",
    "clin_vcf_het_df = clin_vcf_df.copy()\n",
    "clin_vcf_hom_df = clin_vcf_df.copy()\n",
    "clin_vcf_het_df = clin_vcf_het_df[clin_vcf_het_df[\"genotype\"]==\"heterozygous\"]\n",
    "clin_vcf_hom_df = clin_vcf_hom_df[clin_vcf_hom_df[\"genotype\"]==\"homozygous\"]"
   ]
  },
  {
   "cell_type": "markdown",
   "id": "cedc1334-07f1-4106-a62a-29a615e48867",
   "metadata": {
    "jp-MarkdownHeadingCollapsed": true,
    "tags": []
   },
   "source": [
    "# **Step 11**: Asking the right questions"
   ]
  },
  {
   "cell_type": "markdown",
   "id": "ecfd99eb-1faa-428d-af98-72f99299c731",
   "metadata": {},
   "source": [
    "## Not all genes are related to the same disorders, in the case of our patients, they have a clinical phenotype associated with kidney disorders, if we limit the search only to some genes, we can remove the last chunk of hay and get our proverbial needle"
   ]
  },
  {
   "cell_type": "markdown",
   "id": "f4318cb4-7da0-4546-ba65-3853119aa395",
   "metadata": {},
   "source": [
    "## First let's get the list of affected genes per variant, we'll store the results in a new column"
   ]
  },
  {
   "cell_type": "code",
   "execution_count": null,
   "id": "802e5020-a8a3-4de8-b55f-c389d47fa8cd",
   "metadata": {},
   "outputs": [],
   "source": [
    "clin_gene_df              = clin_vcf_hom_df.copy()\n",
    "clin_gene_df[\"gene_list\"] = clin_gene_df[\"annotation\"].apply(lambda x: get_affected_genes(x))"
   ]
  },
  {
   "cell_type": "markdown",
   "id": "73629895-85d7-435a-a9de-7fe29adabba6",
   "metadata": {},
   "source": [
    "## Now, let's build a **gene panel** containing only renal disorder associated genes, note that this panel is **custom made** and you should be very careful not to include sensitive genes such as cancer-related genes, there's a big deal of ethical implications if we look where we shouldn't be looking"
   ]
  },
  {
   "cell_type": "code",
   "execution_count": null,
   "id": "f4c75427-0f57-40de-8810-61b69a312de2",
   "metadata": {},
   "outputs": [],
   "source": [
    "panel = [\"ACE\",      \"ACTA2\",   \"ACTG2\",   \"ACTN4\",    \"ADAMTS13\", \"AGT\",      \"AGTR1\",    \"AGXT\",    \"AHI1\",\n",
    "         \"ALG1\",     \"ALG8\",    \"ALG9\",    \"ALMS1\",    \"AMN\",      \"ANKS6\",    \"ANLN\",     \"ANOS1\",   \"APOA1\",\n",
    "         \"APOE\",     \"APOL1\",   \"APRT\",    \"ARHGAP24\", \"ARHGDIA\",  \"ARL6\",     \"ARL13B\",   \"ARMC9\",   \"ATP6V0A4\",\n",
    "         \"ATP6V1B1\", \"AVP\",     \"B9D2\",    \"BAP1\",     \"BBS1\",     \"BBS2\",     \"BBS4\",     \"BBS5\",    \"BBS7\",\n",
    "         \"BBS9\",     \"BBS10\",   \"BBS12\",   \"BICC1\",    \"BMP4\",     \"BMP7\",     \"BNC2\",     \"BSND\",    \"C3\",\n",
    "         \"CA2\",      \"CBLIF\",   \"CC2D2A\",  \"CCDC28B\",  \"CD2AP\",    \"CD46\",     \"CD151\",    \"CDK20\",   \"CENPF\",\n",
    "         \"CEP41\",    \"CEP55\",   \"CEP83\",   \"CEP104\",   \"CEP164\",   \"CEP290\",   \"CFB\",      \"CFH\",     \"CFHR1\",\n",
    "         \"CFHR2\",    \"CFHR3\",   \"CFHR4\",   \"CFHR5\",    \"CFI\",      \"CHD1L\",    \"CHD7\",     \"CHRM3\",   \"CHRNA3\",\n",
    "         \"CILK1\",    \"CLCN5\",   \"CLDN16\",  \"CLDN19\",   \"CLIC5\",    \"CLPB\",     \"CNNM2\",    \"COL4A1\",  \"COL4A3\",\n",
    "         \"COL4A4\",   \"COL4A5\",  \"COL4A6\",  \"COL11A1\",  \"COQ2\",     \"COQ6\",     \"COQ7\",     \"COQ8B\",   \"COQ9\",\n",
    "         \"COX10\",    \"CRB2\",    \"CREBBP\",  \"CSPP1\",    \"CTNS\",     \"CTU2\",     \"CUBN\",     \"CYP11B2\", \"DACT1\",\n",
    "         \"DGKE\",     \"DHCR7\",   \"DHFR\",    \"DLC1\",     \"DNAJB11\",  \"DSTYK\",    \"DYNC2H1\",  \"DZIP1L\",  \"E2F3\",\n",
    "         \"EGF\",      \"EMP2\",    \"ETFA\",    \"ETFB\",     \"ETFDH\",    \"EXOC3L2\",  \"EYA1\",     \"FAH\",     \"FAM20A\",\n",
    "         \"FAN1\",     \"FANCB\",   \"FAT1\",    \"FGF20\",    \"FH\",       \"FLCN\",     \"FN1\",      \"FOXC2\",   \"FOXI1\",\n",
    "         \"FRAS1\",    \"FREM1\",   \"FREM2\",   \"FXYD2\",    \"G6PC\",     \"GANAB\",    \"GATA3\",    \"GATM\",    \"GDF11\",\n",
    "         \"GEMIN4\",   \"GLA\",     \"GLI3\",    \"GLIS2\",    \"GPC3\",     \"GREB1L\",   \"GRHPR\",    \"GRIP1\",   \"HAAO\",\n",
    "         \"HNF1B\",    \"HOGA1\",   \"HOXA13\",  \"HPSE2\",    \"HYLS1\",    \"IFT43\",    \"IFT122\",   \"INF2\",    \"INPP5E\",\n",
    "         \"INVS\",     \"IQCB1\",   \"ISL1\",    \"ITGA3\",    \"ITGA8\",    \"ITGB4\",    \"ITSN1\",    \"ITSN2\",   \"JAG1\",\n",
    "         \"KANK1\",    \"KANK2\",   \"KANSL1\",  \"KDM6A\",    \"KIAA0586\", \"KIAA0753\", \"KIF7\",     \"KIF14\",   \"KMT2D\",\n",
    "         \"KYNU\",     \"LAGE3\",   \"LAMA5\",   \"LAMB2\",    \"LCAT\",     \"LIFR\",     \"LMNA\",     \"LMX1B\",   \"LRIG2\",\n",
    "         \"LRP4\",     \"LYZ\",     \"LZTFL1\",  \"MAFB\",     \"MAGI2\",    \"MAPKBP1\",  \"MEFV\",     \"MET\",     \"MKKS\",\n",
    "         \"MKS1\",     \"MMACHC\",  \"MTR\",     \"MTRR\",     \"MT-TF\",    \"MUC1\",     \"MYH9\",     \"MYH11\",   \"MYO1E\",\n",
    "         \"MYOCD\",    \"NADSYN1\", \"NEIL1\",   \"NEK8\",     \"NEU1\",     \"NEUROD1\",  \"NF1\",      \"NIPBL\",   \"NLRP3\",\n",
    "         \"NOTCH2\",   \"NPHP1\",   \"NPHP3\",   \"NPHP4\",    \"NPHS1\",    \"NPHS2\",    \"NUP85\",    \"NUP93\",   \"NUP107\",\n",
    "         \"NUP133\",   \"NUP160\",  \"NUP205\",  \"NXF5\",     \"OCRL\",     \"OFD1\",     \"OSGEP\",    \"PAX2\",    \"PBX1\",\n",
    "         \"PCSK5\",    \"PDE6D\",   \"PDSS2\",   \"PKD1\",     \"PKD2\",     \"PKHD1\",    \"PLCE1\",    \"PMM2\",    \"PODXL\",\n",
    "         \"PTPRO\",    \"REN\",     \"RERE\",    \"RET\",      \"ROBO2\",    \"ROR2\",     \"RPGRIP1L\", \"RRM2B\",   \"SALL1\",\n",
    "         \"SALL4\",    \"SARS2\",   \"SCARB2\",  \"SDCCAG8\",  \"SDHB\",     \"SEC61A1\",  \"SEC61B\",   \"SGPL1\",   \"SIX1\",\n",
    "         \"SIX5\",     \"SLC2A2\",  \"SLC2A9\",  \"SLC3A1\",   \"SLC4A1\",   \"SLC7A9\",   \"SLC19A2\",  \"SLC19A3\", \"SLC22A12\",\n",
    "         \"SMARCAL1\", \"SMC1A\",   \"SOX17\",   \"SOX18\",    \"STRA6\",    \"SYNPO\",    \"TBC1D1\",   \"TBC1D8B\", \"TBX18\",\n",
    "         \"TCTN1\",    \"TCTN2\",   \"TCTN3\",   \"TFAP2A\",   \"THBD\",     \"TMEM67\",   \"TMEM107\",  \"TMEM138\", \"TMEM216\",\n",
    "         \"TMEM231\",  \"TMEM237\", \"TNS2\",    \"TP53RK\",   \"TPRKB\",    \"TRAF3IP1\", \"TRAP1\",    \"TRIM32\",  \"TRPC6\",\n",
    "         \"TSC1\",     \"TSC2\",    \"TTC8\",    \"TTC21B\",   \"TXNDC15\",  \"UMOD\",     \"UPK3A\",    \"VHL\",     \"VIPAS39\",\n",
    "         \"VPS33B\",   \"VTN\",     \"WDPCP\",   \"WDR19\",    \"WDR35\",    \"WDR60\",    \"WDR72\",    \"WDR73\",   \"WNT5A\",\n",
    "         \"WT1\",      \"XDH\",     \"XPNPEP3\", \"XPO5\",     \"ZIC3\",     \"ZMPSTE24\", \"ZNF423\"]"
   ]
  },
  {
   "cell_type": "markdown",
   "id": "d684b96b-8dfa-4e4b-b912-8106e54be523",
   "metadata": {},
   "source": [
    "## Now witht the last function we built, we can check if our variants are included in our gene panel\n",
    "\n",
    "## By doing this we avoid getting \"incidental findings\" and we can provide an accurate diagnostic to our patient"
   ]
  },
  {
   "cell_type": "code",
   "execution_count": null,
   "id": "357e1d98-5fb9-4afb-a609-206a50a1845c",
   "metadata": {},
   "outputs": [],
   "source": [
    "clin_gene_df[\"panel\"] = clin_gene_df[\"gene_list\"].apply(lambda x: get_panel_type(x,panel))"
   ]
  },
  {
   "cell_type": "markdown",
   "id": "ffd084af-415a-4a45-b754-637e5997071f",
   "metadata": {},
   "source": [
    "## And lastly, we remove all variants not belonging to the panel of relevant genes"
   ]
  },
  {
   "cell_type": "code",
   "execution_count": null,
   "id": "ddb21ce6-f5b1-41b2-9f30-9dfcae7973a5",
   "metadata": {},
   "outputs": [],
   "source": [
    "clin_panel_df = clin_gene_df.copy()\n",
    "clin_panel_df = clin_panel_df[clin_panel_df[\"panel\"]!=\"excluded\"]"
   ]
  },
  {
   "cell_type": "markdown",
   "id": "deebf81d-8d05-43e4-863d-b18b37999fee",
   "metadata": {
    "jp-MarkdownHeadingCollapsed": true,
    "tags": []
   },
   "source": [
    "# **Step 12:** Testing if the needle we were looking for is actually the needle we were looking for"
   ]
  },
  {
   "cell_type": "markdown",
   "id": "bf7aa587-589a-4fdb-9d50-c8e1894242e0",
   "metadata": {},
   "source": [
    "## With all the functions we used we got rid of most hay in the haystack, but did we manage to find something?"
   ]
  },
  {
   "cell_type": "code",
   "execution_count": null,
   "id": "d6de586f-484f-42f6-8e9c-8358782b44bf",
   "metadata": {},
   "outputs": [],
   "source": [
    "print(\"Original dataset: \"              +str(len(df))+\" variants\")\n",
    "print(\"High quality dataset: \"          +str(len(filt_df))+\" variants\")\n",
    "print(\"Rare variants dataset: \"         +str(len(rare_vcf_df))+\" variants\")\n",
    "print(\"Relevant impact dataset: \"       +str(len(relevant_vcf_df))+\" variants\")\n",
    "print(\"Potentially pathogenic dataset: \"+str(len(clin_vcf_df))+\" variants\")\n",
    "print(\"Homozygous dataset: \"            +str(len(clin_vcf_hom_df))+\" variants\")"
   ]
  },
  {
   "cell_type": "markdown",
   "id": "c993fe7c-531d-4bb0-927a-a30fbb314d7a",
   "metadata": {},
   "source": [
    "## Yes we did!"
   ]
  },
  {
   "cell_type": "code",
   "execution_count": null,
   "id": "89f33dfc-1fd6-46f5-9464-6ff5b335fb1e",
   "metadata": {},
   "outputs": [],
   "source": [
    "print(\"Panel dataset: \"+str(len(clin_panel_df))+\" variants\")"
   ]
  },
  {
   "cell_type": "markdown",
   "id": "d16f3315-f027-4a0a-a0fe-4b26dedb807e",
   "metadata": {},
   "source": [
    "## **What do we know about these variants?**"
   ]
  },
  {
   "cell_type": "code",
   "execution_count": null,
   "id": "844b65b1-79bc-4b0f-9de0-97423303d823",
   "metadata": {},
   "outputs": [],
   "source": [
    "clin_panel_df"
   ]
  },
  {
   "cell_type": "markdown",
   "id": "0b9f9645-daa6-4fd9-b787-e7816fa99369",
   "metadata": {},
   "source": [
    "## Or pretty printed"
   ]
  },
  {
   "cell_type": "code",
   "execution_count": null,
   "id": "d13c8bd3-eabe-4823-8fe5-a5d91baca8c9",
   "metadata": {},
   "outputs": [],
   "source": [
    "print(clin_panel_df[\"annotation\"][6023][0][\"SYMBOL\"])\n",
    "print(clin_panel_df[\"annotation\"][6023][0][\"Consequence\"])\n",
    "print(clin_panel_df[\"genotype\"][6023])\n",
    "print(clin_panel_df[\"annotation\"][6023][0][\"CLIN_SIG\"])\n",
    "print(clin_panel_df[\"annotation\"][6023][0][\"Existing_variation\"].split(\"&\")[0])"
   ]
  },
  {
   "cell_type": "code",
   "execution_count": null,
   "id": "579ab7bd-ec63-4a8c-9632-1c5cb38220c6",
   "metadata": {},
   "outputs": [],
   "source": [
    "print(clin_panel_df[\"annotation\"][18736][0][\"SYMBOL\"])\n",
    "print(clin_panel_df[\"annotation\"][18736][0][\"Consequence\"])\n",
    "print(clin_panel_df[\"genotype\"][18736])\n",
    "print(clin_panel_df[\"annotation\"][18736][0][\"CLIN_SIG\"])\n",
    "print(clin_panel_df[\"annotation\"][18736][0][\"Existing_variation\"].split(\"&\")[0])"
   ]
  },
  {
   "cell_type": "code",
   "execution_count": null,
   "id": "7ee968be-ed59-482c-bebe-26a56d68ce67",
   "metadata": {},
   "outputs": [],
   "source": [
    "print(clin_panel_df[\"annotation\"][51423][0][\"SYMBOL\"])\n",
    "print(clin_panel_df[\"annotation\"][51423][0][\"Consequence\"])\n",
    "print(clin_panel_df[\"genotype\"][51423])\n",
    "print(clin_panel_df[\"annotation\"][51423][0][\"CLIN_SIG\"])\n",
    "print(clin_panel_df[\"annotation\"][51423][0][\"Existing_variation\"].split(\"&\")[0])"
   ]
  },
  {
   "cell_type": "markdown",
   "id": "5c19344e-6bc6-48dc-80f7-26031ab3ec40",
   "metadata": {
    "tags": []
   },
   "source": [
    "## **Are any of them relevant to our patient's diagnosis?**"
   ]
  },
  {
   "cell_type": "markdown",
   "id": "63fe065d-260a-4b92-a2ff-49aeed307b8b",
   "metadata": {},
   "source": [
    "![needle](images/needle.png)"
   ]
  },
  {
   "cell_type": "markdown",
   "id": "adf28ceb",
   "metadata": {},
   "source": [
    "## One of them definitely is!"
   ]
  }
 ],
 "metadata": {
  "@deathbeds/jupyterlab-fonts": {
   "fontLicenses": {
    "Fira Code Medium": {
     "holders": [
      "Copyright (c) 2014, Nikita Prokopov http://tonsky.me with Reserved Font Name Fira Code.",
      "Copyright (c) 2014, Mozilla Foundation https://mozilla.org/ with Reserved Font Name Fira Sans.",
      "Copyright (c) 2014, Mozilla Foundation https://mozilla.org/ with Reserved Font Name Fira Mono.",
      "Copyright (c) 2014, Telefonica S.A."
     ],
     "name": "SIL Open Font License 1.1",
     "spdx": "OFL-1.1",
     "text": "Copyright (c) 2014, The Fira Code Project Authors (https://github.com/tonsky/FiraCode)\n\nThis Font Software is licensed under the SIL Open Font License, Version 1.1.\nThis license is copied below, and is also available with a FAQ at:\nhttp://scripts.sil.org/OFL\n\n\n-----------------------------------------------------------\nSIL OPEN FONT LICENSE Version 1.1 - 26 February 2007\n-----------------------------------------------------------\n\nPREAMBLE\nThe goals of the Open Font License (OFL) are to stimulate worldwide\ndevelopment of collaborative font projects, to support the font creation\nefforts of academic and linguistic communities, and to provide a free and\nopen framework in which fonts may be shared and improved in partnership\nwith others.\n\nThe OFL allows the licensed fonts to be used, studied, modified and\nredistributed freely as long as they are not sold by themselves. The\nfonts, including any derivative works, can be bundled, embedded,\nredistributed and/or sold with any software provided that any reserved\nnames are not used by derivative works. The fonts and derivatives,\nhowever, cannot be released under any other type of license. The\nrequirement for fonts to remain under this license does not apply\nto any document created using the fonts or their derivatives.\n\nDEFINITIONS\n\"Font Software\" refers to the set of files released by the Copyright\nHolder(s) under this license and clearly marked as such. This may\ninclude source files, build scripts and documentation.\n\n\"Reserved Font Name\" refers to any names specified as such after the\ncopyright statement(s).\n\n\"Original Version\" refers to the collection of Font Software components as\ndistributed by the Copyright Holder(s).\n\n\"Modified Version\" refers to any derivative made by adding to, deleting,\nor substituting -- in part or in whole -- any of the components of the\nOriginal Version, by changing formats or by porting the Font Software to a\nnew environment.\n\n\"Author\" refers to any designer, engineer, programmer, technical\nwriter or other person who contributed to the Font Software.\n\nPERMISSION & CONDITIONS\nPermission is hereby granted, free of charge, to any person obtaining\na copy of the Font Software, to use, study, copy, merge, embed, modify,\nredistribute, and sell modified and unmodified copies of the Font\nSoftware, subject to the following conditions:\n\n1) Neither the Font Software nor any of its individual components,\nin Original or Modified Versions, may be sold by itself.\n\n2) Original or Modified Versions of the Font Software may be bundled,\nredistributed and/or sold with any software, provided that each copy\ncontains the above copyright notice and this license. These can be\nincluded either as stand-alone text files, human-readable headers or\nin the appropriate machine-readable metadata fields within text or\nbinary files as long as those fields can be easily viewed by the user.\n\n3) No Modified Version of the Font Software may use the Reserved Font\nName(s) unless explicit written permission is granted by the corresponding\nCopyright Holder. This restriction only applies to the primary font name as\npresented to the users.\n\n4) The name(s) of the Copyright Holder(s) or the Author(s) of the Font\nSoftware shall not be used to promote, endorse or advertise any\nModified Version, except to acknowledge the contribution(s) of the\nCopyright Holder(s) and the Author(s) or with their explicit written\npermission.\n\n5) The Font Software, modified or unmodified, in part or in whole,\nmust be distributed entirely under this license, and must not be\ndistributed under any other license. The requirement for fonts to\nremain under this license does not apply to any document created\nusing the Font Software.\n\nTERMINATION\nThis license becomes null and void if any of the above conditions are\nnot met.\n\nDISCLAIMER\nTHE FONT SOFTWARE IS PROVIDED \"AS IS\", WITHOUT WARRANTY OF ANY KIND,\nEXPRESS OR IMPLIED, INCLUDING BUT NOT LIMITED TO ANY WARRANTIES OF\nMERCHANTABILITY, FITNESS FOR A PARTICULAR PURPOSE AND NONINFRINGEMENT\nOF COPYRIGHT, PATENT, TRADEMARK, OR OTHER RIGHT. IN NO EVENT SHALL THE\nCOPYRIGHT HOLDER BE LIABLE FOR ANY CLAIM, DAMAGES OR OTHER LIABILITY,\nINCLUDING ANY GENERAL, SPECIAL, INDIRECT, INCIDENTAL, OR CONSEQUENTIAL\nDAMAGES, WHETHER IN AN ACTION OF CONTRACT, TORT OR OTHERWISE, ARISING\nFROM, OUT OF THE USE OR INABILITY TO USE THE FONT SOFTWARE OR FROM\nOTHER DEALINGS IN THE FONT SOFTWARE.\n"
    }
   },
   "fonts": {
    "Fira Code Medium": [
     {
      "fontFamily": "'Fira Code Medium'",
      "src": "url('data:font/woff2;charset=utf-8;base64,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') format('woff2')"
     }
    ]
   },
   "styles": {
    ":root": {
     "--jp-code-font-family": "'Fira Code Medium'",
     "--jp-code-font-size": "14px",
     "--jp-code-line-height": "1.25",
     "--jp-content-font-size1": "11px",
     "--jp-content-line-height": "1"
    }
   }
  },
  "kernelspec": {
   "display_name": "Python 3 (ipykernel)",
   "language": "python",
   "name": "python3"
  },
  "language_info": {
   "codemirror_mode": {
    "name": "ipython",
    "version": 3
   },
   "file_extension": ".py",
   "mimetype": "text/x-python",
   "name": "python",
   "nbconvert_exporter": "python",
   "pygments_lexer": "ipython3",
   "version": "3.9.15"
  },
  "toc-autonumbering": false,
  "toc-showcode": true,
  "toc-showmarkdowntxt": true,
  "toc-showtags": true
 },
 "nbformat": 4,
 "nbformat_minor": 5
}
